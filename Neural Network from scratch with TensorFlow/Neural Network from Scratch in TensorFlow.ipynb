{
  "nbformat": 4,
  "nbformat_minor": 0,
  "metadata": {
    "kernelspec": {
      "display_name": "Python 3",
      "language": "python",
      "name": "python3"
    },
    "language_info": {
      "codemirror_mode": {
        "name": "ipython",
        "version": 3
      },
      "file_extension": ".py",
      "mimetype": "text/x-python",
      "name": "python",
      "nbconvert_exporter": "python",
      "pygments_lexer": "ipython3",
      "version": "3.7.0"
    },
    "colab": {
      "name": "Neural Network from Scratch in TensorFlow.ipynb",
      "provenance": []
    }
  },
  "cells": [
    {
      "cell_type": "code",
      "metadata": {
        "id": "rnW2wGTJ1SO1",
        "colab_type": "code",
        "colab": {},
        "outputId": "a0353d51-662b-4f38-f67e-74bb05f58d1a"
      },
      "source": [
        "#importing the required libraries\n",
        "import tensorflow as tf\n",
        "import numpy as np\n",
        "import matplotlib.pyplot as plt\n",
        "import nn_utils\n",
        "%matplotlib inline\n",
        "\n",
        "#to check the version of the tensorflow\n",
        "print('TensorFlow Version:', tf.__version__)"
      ],
      "execution_count": null,
      "outputs": [
        {
          "output_type": "stream",
          "text": [
            "TensorFlow Version: 2.1.0\n"
          ],
          "name": "stdout"
        }
      ]
    },
    {
      "cell_type": "code",
      "metadata": {
        "id": "pUqhkShc1SPT",
        "colab_type": "code",
        "colab": {}
      },
      "source": [
        "#initializing the Neural Network\n",
        "#later on this class will be instantiated by passing the layers, where all the layers will be Fully Connected\n",
        "class NeuralNetwork:\n",
        "    def __init__(self, layers):\n",
        "        self.layers = layers\n",
        "        self.L = len(layers)\n",
        "        self.num_features = layers[0]\n",
        "        self.num_classes = layers[-1]\n",
        "        \n",
        "        #we will also keep track of weights and biases as well as gradients\n",
        "        self.W = {}\n",
        "        self.b = {}\n",
        "        \n",
        "        self.dW = {}\n",
        "        self.db = {}\n",
        "        \n",
        "        self.setup()\n",
        "        \n",
        "    def setup(self):\n",
        "        #initializing the values of parameters of the layers, starting with second layer, since first one is the input layer\n",
        "        for i in range(1, self.L):\n",
        "            self.W[i] = tf.Variable(tf.random.normal(shape = (self.layers[i], self.layers[i-1])))\n",
        "            self.b[i] = tf.Variable(tf.random.normal(shape = (self.layers[i],1)))"
      ],
      "execution_count": null,
      "outputs": []
    },
    {
      "cell_type": "code",
      "metadata": {
        "id": "O-shMu9l1SPl",
        "colab_type": "code",
        "colab": {}
      },
      "source": [
        "#implementation of the forward pass\n",
        "class NeuralNetwork(NeuralNetwork):\n",
        "    def forward_pass(self, X):\n",
        "        #X is the input X or the batch of the input\n",
        "        A = tf.convert_to_tensor(X, dtype = tf.float32)\n",
        "        #converting the input into tensors\n",
        "        for i in range(1, self.L):\n",
        "            z = tf.matmul(A, tf.transpose(self.W[i])) + tf.transpose(self.b[i])\n",
        "            if i != self.L-1:\n",
        "                A = tf.nn.relu(z)\n",
        "                #except final layer all other layers are actiavted using the relu activation\n",
        "            else:\n",
        "                A = z\n",
        "                #final layer have no activation\n",
        "        return A"
      ],
      "execution_count": null,
      "outputs": []
    },
    {
      "cell_type": "code",
      "metadata": {
        "id": "MB3eGFiq1SPz",
        "colab_type": "code",
        "colab": {}
      },
      "source": [
        "#functions for computing loss and updating the parameters\n",
        "class NeuralNetwork(NeuralNetwork):\n",
        "    #for computing the loss using the softmax function\n",
        "    def compute_loss(self, A, Y):\n",
        "        loss = tf.nn.softmax_cross_entropy_with_logits(Y, A)\n",
        "        return tf.reduce_mean(loss)\n",
        "    \n",
        "    #for updating the paramters values of layer\n",
        "    def update_params(self, lr):\n",
        "        for i in range(1, self.L):\n",
        "            self.W[i].assign_sub(lr * self.dW[i])\n",
        "            self.b[i].assign_sub(lr * self.db[i])"
      ],
      "execution_count": null,
      "outputs": []
    },
    {
      "cell_type": "code",
      "metadata": {
        "id": "H7frJLob1SQD",
        "colab_type": "code",
        "colab": {}
      },
      "source": [
        "#function for prediction\n",
        "class NeuralNetwork(NeuralNetwork):\n",
        "    def predict(self, X):\n",
        "        A = self.forward_pass(X)\n",
        "        return tf.argmax(tf.nn.softmax(A), axis = 1)\n",
        "    \n",
        "    #to show the summary of the neural network\n",
        "    def info(self):\n",
        "        num_params = 0\n",
        "        for i in range(1, self.L):\n",
        "            num_params += self.W[i].shape[0] * self.W[i].shape[1]\n",
        "            num_params += self.b[i].shape[0]\n",
        "        print('Input Features:', self.num_features)\n",
        "        print('Number of Classes:', self.num_classes)\n",
        "        print('Hidden Layers:')\n",
        "        print('--------------')\n",
        "        for i in range(1, self.L-1):\n",
        "            print('Layer {}, Units {}'.format(i, self.layers[i]))\n",
        "        print('--------------')\n",
        "        print('Number of parameters:', num_params)"
      ],
      "execution_count": null,
      "outputs": []
    },
    {
      "cell_type": "code",
      "metadata": {
        "id": "z2yJStza1SQU",
        "colab_type": "code",
        "colab": {}
      },
      "source": [
        "#training algorithm for the batch\n",
        "class NeuralNetwork(NeuralNetwork):\n",
        "    def train_on_batch(self, X, Y, lr):\n",
        "        X = tf.convert_to_tensor(X, dtype = tf.float32)\n",
        "        Y = tf.convert_to_tensor(Y, dtype = tf.float32)\n",
        "        #converting the input into tensors\n",
        "        \n",
        "        with tf.GradientTape(persistent = True) as tape:\n",
        "            A = self.forward_pass(X)\n",
        "            loss = self.compute_loss(A, Y)\n",
        "        for i in range(1, self.L):\n",
        "            self.dW[i] = tape.gradient(loss, self.W[i])\n",
        "            self.db[i] = tape.gradient(loss, self.b[i])\n",
        "            \n",
        "        del tape\n",
        "        self.update_params(lr)\n",
        "        return loss.numpy()"
      ],
      "execution_count": null,
      "outputs": []
    },
    {
      "cell_type": "code",
      "metadata": {
        "id": "GLsetQHW1SQh",
        "colab_type": "code",
        "colab": {}
      },
      "source": [
        "#training on the complete set\n",
        "class NeuralNetwork(NeuralNetwork):\n",
        "    def train(self, x_train, y_train, x_test, y_test, epochs, steps_per_epoch, batch_size, lr):\n",
        "        history = {\n",
        "            'val_loss': [],\n",
        "            'train_loss': [],\n",
        "            'val_acc': []\n",
        "        }\n",
        "        \n",
        "        for e in range(0, epochs):\n",
        "            epoch_train_loss = 0.\n",
        "            print('Epoch {}'.format(e), end = '.')\n",
        "            for i in range(0, steps_per_epoch):\n",
        "                x_batch = x_train[i*batch_size:(i+1)*batch_size]\n",
        "                y_batch = y_train[i*batch_size:(i+1)*batch_size]\n",
        "                \n",
        "                batch_loss = self.train_on_batch(x_batch, y_batch, lr)\n",
        "                epoch_train_loss+= batch_loss\n",
        "                \n",
        "                if i%int(steps_per_epoch/10) == 0:\n",
        "                    print(end = '.')\n",
        "                    \n",
        "            history['train_loss'].append(epoch_train_loss/steps_per_epoch)\n",
        "            val_A = self.forward_pass(x_test)\n",
        "            val_loss = self.compute_loss(val_A, y_test).numpy()\n",
        "            history['val_loss'].append(val_loss)\n",
        "            val_preds = self.predict(x_test)\n",
        "            val_acc = np.mean(np.argmax(y_test, axis = 1) == val_preds.numpy())\n",
        "            history['val_acc'].append(val_acc)\n",
        "            print('Val acc: ',val_acc)\n",
        "        return history"
      ],
      "execution_count": null,
      "outputs": []
    },
    {
      "cell_type": "code",
      "metadata": {
        "id": "9abWwjPD1SQs",
        "colab_type": "code",
        "colab": {},
        "outputId": "9553d9fe-db85-41ba-c445-1786bcf51960"
      },
      "source": [
        "#using the helper function\n",
        "(x_train, y_train), (x_test, y_test) = nn_utils.load_data()\n",
        "#helper function will provide the preprocess data only\n",
        "#plotting some of the examples\n",
        "nn_utils.plot_random_examples(x_train, y_train).show()"
      ],
      "execution_count": null,
      "outputs": [
        {
          "output_type": "display_data",
          "data": {
            "image/png": "[encoded data removed]",
            "text/plain": [
              "<Figure size 720x360 with 10 Axes>"
            ]
          },
          "metadata": {
            "tags": []
          }
        }
      ]
    },
    {
      "cell_type": "code",
      "metadata": {
        "id": "gxpoizU81SQ5",
        "colab_type": "code",
        "colab": {},
        "outputId": "bcef7d4a-9b42-4bf5-d68e-baccaf66899d"
      },
      "source": [
        "#creating the neural network\n",
        "net = NeuralNetwork([784, 128, 128 ,10])\n",
        "net.info()"
      ],
      "execution_count": null,
      "outputs": [
        {
          "output_type": "stream",
          "text": [
            "Input Features: 784\n",
            "Number of Classes: 10\n",
            "Hidden Layers:\n",
            "--------------\n",
            "Layer 1, Units 128\n",
            "Layer 2, Units 128\n",
            "--------------\n",
            "Number of parameters: 118282\n"
          ],
          "name": "stdout"
        }
      ]
    },
    {
      "cell_type": "code",
      "metadata": {
        "id": "V5E671vf1SRD",
        "colab_type": "code",
        "colab": {},
        "outputId": "d66aa98a-dafd-40f6-db5b-05f70a7e191e"
      },
      "source": [
        "#setting up the training parameters\n",
        "batch_size = 120\n",
        "epochs = 5\n",
        "steps_per_epoch = int(x_train.shape[0]/batch_size)\n",
        "lr = 3e-3\n",
        "print('Steps per epoch', steps_per_epoch)"
      ],
      "execution_count": null,
      "outputs": [
        {
          "output_type": "stream",
          "text": [
            "Steps per epoch 500\n"
          ],
          "name": "stdout"
        }
      ]
    },
    {
      "cell_type": "code",
      "metadata": {
        "id": "i4WVQYv51SRQ",
        "colab_type": "code",
        "colab": {},
        "outputId": "7caef7b7-840e-46a3-e3d8-1dbae5fa526d"
      },
      "source": [
        "#training the neural network\n",
        "history = net.train(\n",
        "    x_train, y_train,\n",
        "    x_test, y_test,\n",
        "    epochs, steps_per_epoch,\n",
        "    batch_size, lr\n",
        ")"
      ],
      "execution_count": null,
      "outputs": [
        {
          "output_type": "stream",
          "text": [
            "Epoch 0...........Val acc:  0.8074\n",
            "Epoch 1...........Val acc:  0.841\n",
            "Epoch 2...........Val acc:  0.8564\n",
            "Epoch 3...........Val acc:  0.8648\n",
            "Epoch 4...........Val acc:  0.8686\n"
          ],
          "name": "stdout"
        }
      ]
    },
    {
      "cell_type": "code",
      "metadata": {
        "id": "eLALUkpO1SRi",
        "colab_type": "code",
        "colab": {},
        "outputId": "6f0adf0d-7214-4db1-aad9-3c17902f4252"
      },
      "source": [
        "nn_utils.plot_results(history).show()\n",
        "#using helper function for the plotting of history objects"
      ],
      "execution_count": null,
      "outputs": [
        {
          "output_type": "display_data",
          "data": {
            "image/png": "[encoded data removed]",
            "text/plain": [
              "<Figure size 864x288 with 2 Axes>"
            ]
          },
          "metadata": {
            "tags": [],
            "needs_background": "light"
          }
        }
      ]
    },
    {
      "cell_type": "code",
      "metadata": {
        "id": "Ua-2C11B1SRr",
        "colab_type": "code",
        "colab": {}
      },
      "source": [
        "preds = net.predict(x_test)\n",
        "#to get some of the prediction"
      ],
      "execution_count": null,
      "outputs": []
    },
    {
      "cell_type": "code",
      "metadata": {
        "id": "f5_ZrTu21SR3",
        "colab_type": "code",
        "colab": {},
        "outputId": "5cb20ca5-58e6-47b9-d32c-5300892f7acb"
      },
      "source": [
        "nn_utils.plot_random_examples(x_test, y_test, preds.numpy()).show()\n",
        "#to plot some of the predictions"
      ],
      "execution_count": null,
      "outputs": [
        {
          "output_type": "display_data",
          "data": {
            "image/png": "[encoded data removed]",
            "text/plain": [
              "<Figure size 720x360 with 10 Axes>"
            ]
          },
          "metadata": {
            "tags": []
          }
        }
      ]
    }
  ]
}